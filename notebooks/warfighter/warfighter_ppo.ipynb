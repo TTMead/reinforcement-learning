{
 "cells": [
  {
   "cell_type": "markdown",
   "metadata": {},
   "source": [
    "# Warfighter PPO\n",
    "\n",
    "API Reference: https://github.com/Unity-Technologies/ml-agents/blob/release_20_docs/docs/Python-LLAPI.md"
   ]
  },
  {
   "cell_type": "code",
   "execution_count": null,
   "metadata": {},
   "outputs": [],
   "source": [
    "from mlagents_envs.environment import UnityEnvironment\n",
    "from mlagents_envs.environment import ActionTuple\n",
    "from mlagents_envs.side_channel.engine_configuration_channel import EngineConfigurationChannel\n",
    "import numpy as np\n",
    "import matplotlib.pyplot as plt"
   ]
  },
  {
   "cell_type": "markdown",
   "metadata": {},
   "source": [
    "## Startup & Config"
   ]
  },
  {
   "cell_type": "code",
   "execution_count": null,
   "metadata": {},
   "outputs": [],
   "source": [
    "editor_timescale = 20.0\n",
    "n_timesteps = 10000"
   ]
  },
  {
   "cell_type": "code",
   "execution_count": null,
   "metadata": {},
   "outputs": [],
   "source": [
    "config_channel = EngineConfigurationChannel()\n",
    "\n",
    "# Connect to the Unity Environment (Press the Play button after running this block)\n",
    "env = UnityEnvironment(seed=1, side_channels=[config_channel])\n",
    "config_channel.set_configuration_parameters(time_scale=editor_timescale)\n",
    "env.reset()\n",
    "\n",
    "print(\"API Version: [\" + env.API_VERSION + \"]\")\n",
    "print(\"Base Env Port: [\" + str(env.BASE_ENVIRONMENT_PORT) + \"]\")\n",
    "print(\"Default Editor Port: [\" + str(env.DEFAULT_EDITOR_PORT) + \"]\")"
   ]
  },
  {
   "cell_type": "markdown",
   "metadata": {},
   "source": [
    "## Random Actions"
   ]
  },
  {
   "cell_type": "code",
   "execution_count": null,
   "metadata": {},
   "outputs": [],
   "source": [
    "group_name = list(env.behavior_specs)[0]\n",
    "print(\"Group name: [\" + group_name + \"]\")\n",
    "\n",
    "behavior_spec = env.behavior_specs[group_name]\n",
    "print(behavior_spec)\n",
    "print()\n",
    "\n",
    "rewards = []\n",
    "\n",
    "for t in range(0, n_timesteps):\n",
    "    decision_steps, terminal_steps = env.get_steps(group_name)\n",
    "\n",
    "    if (terminal_steps):\n",
    "        rewards.append(terminal_steps.reward)\n",
    "        env.reset()\n",
    "        decision_steps, _ = env.get_steps(group_name)\n",
    "\n",
    "    action = ActionTuple(np.random.randn(len(decision_steps.agent_id), behavior_spec.action_spec.continuous_size))\n",
    "    env.set_actions(group_name, action)\n",
    "    env.step()\n",
    "\n",
    "print(\"Done!\")"
   ]
  },
  {
   "cell_type": "code",
   "execution_count": null,
   "metadata": {},
   "outputs": [],
   "source": [
    "plt.plot(rewards)\n",
    "plt.ylabel('Reward')\n",
    "plt.xlabel('Episode')\n",
    "plt.show()"
   ]
  },
  {
   "cell_type": "markdown",
   "metadata": {},
   "source": [
    "## PPO"
   ]
  },
  {
   "cell_type": "code",
   "execution_count": null,
   "metadata": {},
   "outputs": [],
   "source": [
    "from mlagents_envs.envs.unity_gym_env import UnityToGymWrapper\n",
    "from stable_baselines3 import PPO\n",
    "\n",
    "sb3_env = UnityToGymWrapper(env, uint8_visual=False, flatten_branched=False, allow_multiple_obs=False)"
   ]
  },
  {
   "cell_type": "code",
   "execution_count": null,
   "metadata": {},
   "outputs": [],
   "source": [
    "model = PPO(\n",
    "    policy = 'MlpPolicy',\n",
    "    env = sb3_env,\n",
    "    n_steps = 1024,\n",
    "    batch_size = 64,\n",
    "    n_epochs = 4,\n",
    "    gamma = 0.999,\n",
    "    gae_lambda = 0.98,\n",
    "    ent_coef = 0.01,\n",
    "    verbose=1)\n",
    "\n",
    "model.learn(total_timesteps=1e5)\n",
    "model.save(\"warfighter-ppo-1e5\")"
   ]
  },
  {
   "cell_type": "code",
   "execution_count": null,
   "metadata": {},
   "outputs": [],
   "source": [
    "model = PPO.load(\"warfighter-ppo-1e5\", env=sb3_env)\n",
    "rewards = []\n",
    "\n",
    "observation = sb3_env.reset()\n",
    "for _ in range(1000):\n",
    "    action, _states = model.predict(observation, deterministic=True)\n",
    "    observation, reward, terminated, truncated = sb3_env.step(action)\n",
    "\n",
    "    if terminated:\n",
    "        rewards.append(reward)\n",
    "        observation = sb3_env.reset()\n",
    "\n",
    "plt.plot(rewards)\n",
    "plt.ylabel('Reward')\n",
    "plt.xlabel('Episode')\n",
    "plt.show()"
   ]
  },
  {
   "cell_type": "markdown",
   "metadata": {},
   "source": [
    "## Close Connection"
   ]
  },
  {
   "cell_type": "code",
   "execution_count": null,
   "metadata": {},
   "outputs": [],
   "source": [
    "env.close()"
   ]
  }
 ],
 "metadata": {
  "kernelspec": {
   "display_name": "env",
   "language": "python",
   "name": "python3"
  },
  "language_info": {
   "codemirror_mode": {
    "name": "ipython",
    "version": 3
   },
   "file_extension": ".py",
   "mimetype": "text/x-python",
   "name": "python",
   "nbconvert_exporter": "python",
   "pygments_lexer": "ipython3",
   "version": "3.10.12"
  }
 },
 "nbformat": 4,
 "nbformat_minor": 2
}
