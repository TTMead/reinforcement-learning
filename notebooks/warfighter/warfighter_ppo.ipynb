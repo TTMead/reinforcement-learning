{
 "cells": [
  {
   "cell_type": "markdown",
   "metadata": {},
   "source": [
    "# Warfighter PPO\n",
    "\n",
    "Reference: https://github.com/Unity-Technologies/ml-agents/blob/release_20_docs/docs/Python-LLAPI.md"
   ]
  },
  {
   "cell_type": "code",
   "execution_count": null,
   "metadata": {},
   "outputs": [],
   "source": [
    "from mlagents_envs.environment import UnityEnvironment\n",
    "from mlagents_envs.environment import ActionTuple\n",
    "import numpy as np\n",
    "import random"
   ]
  },
  {
   "cell_type": "code",
   "execution_count": null,
   "metadata": {},
   "outputs": [],
   "source": [
    "# This is a non-blocking call that only loads the environment.\n",
    "env = UnityEnvironment(seed=1, side_channels=[])\n",
    "\n",
    "# Start interacting with the environment.\n",
    "env.reset()\n",
    "behavior_names = env.behavior_specs\n",
    "for name in behavior_names:\n",
    "    print(name)\n",
    "\n",
    "for i in range(0, 10):\n",
    "    action_tuple = ActionTuple()\n",
    "    action_tuple.add_continuous(random.uniform(0, 1))\n",
    "    action_tuple.add_continuous(random.uniform(0, 1))\n",
    "    env.set_actions(\"Warfighter?team=0\", action_tuple)\n",
    "    env.step()\n",
    "\n",
    "# Close connection\n",
    "env.close()"
   ]
  }
 ],
 "metadata": {
  "kernelspec": {
   "display_name": "env",
   "language": "python",
   "name": "python3"
  },
  "language_info": {
   "codemirror_mode": {
    "name": "ipython",
    "version": 3
   },
   "file_extension": ".py",
   "mimetype": "text/x-python",
   "name": "python",
   "nbconvert_exporter": "python",
   "pygments_lexer": "ipython3",
   "version": "3.10.12"
  }
 },
 "nbformat": 4,
 "nbformat_minor": 2
}
