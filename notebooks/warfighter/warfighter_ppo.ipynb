{
 "cells": [
  {
   "cell_type": "markdown",
   "metadata": {},
   "source": [
    "# Warfighter PPO\n",
    "\n",
    "Reference: https://github.com/Unity-Technologies/ml-agents/blob/release_20_docs/docs/Python-LLAPI.md"
   ]
  },
  {
   "cell_type": "code",
   "execution_count": null,
   "metadata": {},
   "outputs": [],
   "source": [
    "from mlagents_envs.environment import UnityEnvironment\n",
    "from mlagents_envs.environment import ActionTuple\n",
    "import numpy as np\n",
    "import random"
   ]
  },
  {
   "cell_type": "markdown",
   "metadata": {},
   "source": [
    "## Startup & Config"
   ]
  },
  {
   "cell_type": "code",
   "execution_count": null,
   "metadata": {},
   "outputs": [],
   "source": [
    "# Connect to the Unity Environment (Press the Play button after running this block)\n",
    "env = UnityEnvironment(seed=1, side_channels=[])\n",
    "\n",
    "print(\"API Version: [\" + env.API_VERSION + \"]\")\n",
    "print(\"Base Env Port: [\" + str(env.BASE_ENVIRONMENT_PORT) + \"]\")\n",
    "print(\"Default Editor Port: [\" + str(env.DEFAULT_EDITOR_PORT) + \"]\")"
   ]
  },
  {
   "cell_type": "markdown",
   "metadata": {},
   "source": [
    "## Random Actions"
   ]
  },
  {
   "cell_type": "code",
   "execution_count": null,
   "metadata": {},
   "outputs": [],
   "source": [
    "env.reset()\n",
    "\n",
    "group_name = list(env.behavior_specs)[0]\n",
    "print(\"Group name: [\" + group_name + \"]\")\n",
    "\n",
    "behavior_spec = env.behavior_specs[group_name]\n",
    "print(behavior_spec)\n",
    "print()\n",
    "\n",
    "n_timesteps = 300\n",
    "for t in range(0, n_timesteps):\n",
    "    decision_steps, terminal_steps = env.get_steps(group_name)\n",
    "\n",
    "    if (terminal_steps):\n",
    "        print(\"Reward: \" + str(terminal_steps.reward))\n",
    "        env.reset()\n",
    "        decision_steps, _ = env.get_steps(group_name)\n",
    "\n",
    "    action = ActionTuple(np.random.randn(len(decision_steps.agent_id), behavior_spec.action_spec.continuous_size))\n",
    "    env.set_actions(group_name, action)\n",
    "    env.step()\n",
    "\n",
    "print(\"Done!\")"
   ]
  },
  {
   "cell_type": "markdown",
   "metadata": {},
   "source": [
    "## Close Connection"
   ]
  },
  {
   "cell_type": "code",
   "execution_count": null,
   "metadata": {},
   "outputs": [],
   "source": [
    "env.close()"
   ]
  }
 ],
 "metadata": {
  "kernelspec": {
   "display_name": "env",
   "language": "python",
   "name": "python3"
  },
  "language_info": {
   "codemirror_mode": {
    "name": "ipython",
    "version": 3
   },
   "file_extension": ".py",
   "mimetype": "text/x-python",
   "name": "python",
   "nbconvert_exporter": "python",
   "pygments_lexer": "ipython3",
   "version": "3.10.12"
  }
 },
 "nbformat": 4,
 "nbformat_minor": 2
}
